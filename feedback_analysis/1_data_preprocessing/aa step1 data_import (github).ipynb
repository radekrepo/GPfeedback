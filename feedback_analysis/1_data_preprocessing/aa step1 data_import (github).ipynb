{
 "cells": [
  {
   "cell_type": "code",
   "execution_count": 6,
   "metadata": {
    "scrolled": true
   },
   "outputs": [],
   "source": [
    "\"\"\"\n",
    "\n",
    "this code was used to scrape data from NHS Choices database in early 2017\n",
    "\n",
    "It was implemented with Python 2.7. Update to newest Python 3.x is recommended.\n",
    "The structure of NHS Choices database has since changed and the code needs updating for that as well.\n",
    "\"\"\"\n",
    "\n",
    "import requests\n",
    "import os\n",
    "import sys\n",
    "\n",
    "\n",
    "# CHOOSE RANGE OF PAGE NUMBERS FROM WHICH TO SCRAPE REVIEWS DATA\n",
    "strony = range(3174,3175)\n",
    "\n",
    "# os.chdir(\"c:\\users\\user\\desktop\\gp practices 2016\")\n",
    "\n",
    "# GPs\n",
    "apikey = \"JROLO\" #obtain your own API key from NHS Choices to scrape data\n",
    "\n",
    "for strona in strony:\n",
    "    adres = \"http://v1.syndication.nhschoices.nhs.uk/organisations/gppractices/commentssince/2016/1/1?apikey=\" + apikey + \"&page=\"\n",
    "    nazwa_pliku = \"gp_comments\" # \"gp2016_komentarze\"\n",
    "    adres = adres + str(strona)\n",
    "    nazwa_pliku = nazwa_pliku + str(strona) + \".txt\"\n",
    "    reload(sys)\n",
    "    sys.setdefaultencoding('UTF8')\n",
    "    r = requests.get(adres)\n",
    "    with open(nazwa_pliku, \"wb\") as f:\n",
    "        f.write(r.text)\n",
    "    reload(sys)\n",
    "    print \"loaded comments from page \" + str(strona)\n",
    "\n",
    "# os.chdir(\"c:\\users\\user\\desktop\\hospitals\")\n",
    "# # SZPITALE\n",
    "# for strona in strony:\n",
    "#     adres = \"http://v1.syndication.nhschoices.nhs.uk/organisations/hospitals/comments?apikey=\" + apikey + \"&page=\"\n",
    "#     nazwa_pliku = \"szpital_komentarze\"\n",
    "#     adres = adres + str(strona)\n",
    "#     nazwa_pliku = nazwa_pliku + str(strona) + \".txt\"\n",
    "#     reload(sys)\n",
    "#     sys.setdefaultencoding('UTF8')\n",
    "#     r = requests.get(adres)\n",
    "#     with open(nazwa_pliku, \"wb\") as f:\n",
    "#         f.write(r.text)\n",
    "#     reload(sys)\n",
    "#     print \"loaded comments from page \" + str(strona)\n",
    "\n",
    "print \"koniec\""
   ]
  },
  {
   "cell_type": "code",
   "execution_count": null,
   "metadata": {
    "collapsed": true
   },
   "outputs": [],
   "source": []
  },
  {
   "cell_type": "code",
   "execution_count": null,
   "metadata": {
    "collapsed": true
   },
   "outputs": [],
   "source": [
    "# DOWNLOAD DATA FROM ONE SUBPAGE\n",
    "# switch encoding from ASCII to UTF8\n",
    "# reload(sys)\n",
    "# sys.setdefaultencoding('UTF8')\n",
    "\n",
    "\n",
    "# r = requests.get('http://v1.syndication.nhschoices.nhs.uk/organisations/dentists/comments?apikey=JROLO')\n",
    "\n",
    "# with open(\"dummmy_file.txt\", \"wb\") as f:\n",
    "#     f.write(r.text)\n",
    "\n",
    "# reload(sys)"
   ]
  }
 ],
 "metadata": {
  "kernelspec": {
   "display_name": "Python 3",
   "language": "python",
   "name": "python3"
  },
  "language_info": {
   "codemirror_mode": {
    "name": "ipython",
    "version": 3
   },
   "file_extension": ".py",
   "mimetype": "text/x-python",
   "name": "python",
   "nbconvert_exporter": "python",
   "pygments_lexer": "ipython3",
   "version": "3.6.3"
  }
 },
 "nbformat": 4,
 "nbformat_minor": 1
}
