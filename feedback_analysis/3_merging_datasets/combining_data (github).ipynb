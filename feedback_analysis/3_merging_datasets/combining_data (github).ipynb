{
 "cells": [
  {
   "cell_type": "code",
   "execution_count": 20,
   "metadata": {},
   "outputs": [
    {
     "name": "stdout",
     "output_type": "stream",
     "text": [
      "koniec\n"
     ]
    }
   ],
   "source": [
    "\"\"\"\n",
    "\n",
    "This is legacy code written to showcase how data were merged with Python 2.7\n",
    "\n",
    "Sources of the data being combined are explained in arXiv paper number 1711.08083\n",
    "https://arxiv.org/abs/1711.08083\n",
    "\n",
    "\n",
    "\"\"\"\n",
    "\n",
    "\n",
    "\n",
    "\n",
    "import pandas as pd\n",
    "import os\n",
    "\n",
    "os.getcwd()\n",
    "\n",
    "\n",
    "a = pd.read_csv(\"patients' LSOA when registering for GP.csv\", low_memory=False)\n",
    "b = pd.read_csv(\"LSOA-level IMD scores.csv\", low_memory=False)\n",
    "\n",
    "merged1 = a.merge(b, how='outer', on='lsoa', indicator=True)\n",
    "# merged2 = a.merge(b, on='lsoa')\n",
    "# merged3 = a.merge(b, on='ods', how='right')\n",
    "\n",
    "merged1.to_csv(\"merged_outer.csv\", index=False)\n",
    "# merged2.to_csv('merged_inner.csv', index=False)\n",
    "\n",
    "print \"ok\"\n",
    "\n",
    "1. Merging patient register numbers organised according to LSOA codes and LSOA-level IMD scores\n",
    "- 751588 unique GP-LSOA pairs\n",
    "- 32844 Index of Multiple Deprivation recordings for LSOAs\n",
    "\n",
    "Results of merging:\n",
    "# - 747898 records had both: a) a GP-LSOA pair, and b) IMD score for the LSOA\n",
    "# - 3625 records lacked a GP-LSOA pair (this data gap was assumed there were no registered patients from those LSOA areas)\n",
    "# - 269 records lacked an IMD score for an LSOA\n",
    "\n"
   ]
  },
  {
   "cell_type": "code",
   "execution_count": 67,
   "metadata": {
    "scrolled": true
   },
   "outputs": [
    {
     "name": "stdout",
     "output_type": "stream",
     "text": [
      "koniec\n"
     ]
    }
   ],
   "source": [
    "# Compute:\n",
    "# - average IMD for each GP\n",
    "# - total number of patients\n",
    "# - number of patients without known LSOA registered at GP practices\n",
    "\n",
    "import csv\n",
    "import os\n",
    "\n",
    "if os.path.isfile(\"gp_imd+patients.csv\"):\n",
    "    os.remove(\"gp_imd+patients.csv\")\n",
    "\n",
    "klucze = {}\n",
    "with open('merged_outer LSOA & IMD.csv','rb') as dok:\n",
    "    reader = csv.reader(dok, delimiter=',')\n",
    "    for i,v in enumerate(reader):\n",
    "        if i > 0:\n",
    "            if v[-1] == 'both': \n",
    "                if v[0] in klucze:\n",
    "                    lsoa = klucze[v[0]][-3]\n",
    "                    lsoa.extend([v[6],v[7]])\n",
    "                    imd_kobiety = int(v[4]) * int(v[-2])\n",
    "                    imd_faceci = int(v[3]) * int(v[-2])\n",
    "                    klucze[v[0]][1] = int(klucze[v[0]][1]) + int(v[4]) #kobiety\n",
    "                    klucze[v[0]][2] = int(klucze[v[0]][2]) + int(v[3]) #faceci\n",
    "                    klucze[v[0]][3] = int(klucze[v[0]][3]) + imd_kobiety #imd kobiety\n",
    "                    klucze[v[0]][4] = int(klucze[v[0]][4]) + imd_faceci #imd faceci\n",
    "                else:\n",
    "                    imd_kobiety = int(v[4]) * int(v[-2])\n",
    "                    imd_faceci = int(v[3]) * int(v[-2])\n",
    "                    lsoa = [v[6],v[7]]\n",
    "                    info = [v[1],v[4],v[3],imd_kobiety,imd_faceci, lsoa,0,0]\n",
    "                    klucze[v[0]] = info\n",
    "            else: # co jeśli wiersz jest wybrakowany\n",
    "                if v[0] in klucze:\n",
    "                    lsoa = klucze[v[0]][-3]\n",
    "                    lsoa.extend(['nan','nan'])\n",
    "\n",
    "                    klucze[v[0]][6] = int(klucze[v[0]][6]) + int(v[4])\n",
    "                    klucze[v[0]][7] = int(klucze[v[0]][7]) + int(v[3])\n",
    "                else:\n",
    "                    lsoa = ['nan','nan']\n",
    "                    info = [v[1],0,0,0,0,lsoa,v[4],v[3]]\n",
    "                    klucze[v[0]] = info\n",
    "\n",
    "with open(\"gp_imd+patients.csv\", \"ab\") as dok:\n",
    "    writer = csv.writer(dok, delimiter = \",\") \n",
    "    tytuly = ['gp_ods','gp_name','women','men','f_imd','m_imd','f_without_imd','m_without_imd','avg_imd','patient_count_all']\n",
    "    writer.writerow(tytuly)\n",
    "    for klucz in klucze:\n",
    "        listka = [] \n",
    "        listka.append(klucz)\n",
    "        listka.extend(klucze[klucz])\n",
    "        ppol = listka[:6]\n",
    "        dpol = listka[7:]\n",
    "        listka = ppol\n",
    "        listka.extend(dpol)\n",
    "        if licznik < 1:\n",
    "            print listka\n",
    "#         licznik = licznik + 1\n",
    "        pacjenci = int(klucze[klucz][2]) + int(klucze[klucz][1])\n",
    "        imd = int(klucze[klucz][3]) + int(klucze[klucz][4])\n",
    "        pacjenci_inni = int(klucze[klucz][-1]) + int(klucze[klucz][-2])\n",
    "        sr_imd = 'nan'\n",
    "        if pacjenci != 0:\n",
    "            sr_imd = float(imd)/float(pacjenci)\n",
    "        else:\n",
    "            pass\n",
    "        listka.append(sr_imd)\n",
    "        pacjenci_wszyscy = pacjenci + pacjenci_inni\n",
    "        listka.append(pacjenci_wszyscy)\n",
    "        writer.writerow(listka)\n",
    "\n",
    "\n",
    "print 'ok'"
   ]
  },
  {
   "cell_type": "code",
   "execution_count": 1,
   "metadata": {
    "collapsed": true
   },
   "outputs": [],
   "source": [
    "# Combining merged file also with fiscal records from 2015/16 of NHS payments to GP practices.\n",
    "# (so, the payments are for period 2014/2015, the fiscal year in NHS ends in September)\n",
    "# Index of Multiple Deprivation scores per LSOA come from year 2012.\n",
    "# patient register numbers per LSOA and GP practice come from July 2015\n",
    "\n",
    "\n",
    "# 7748 GPs had records both (a) of NHS payments, and (b) had IMD data\n",
    "# 93 GPs only had data in dataset (a)\n",
    "# 53 GPs only had data in dataset (b)\n",
    "\n",
    "import pandas as pd\n",
    "import os\n",
    "\n",
    "os.getcwd()\n",
    "\n",
    "\n",
    "a = pd.read_csv(\"nhspaymentsgp-15-16-csv.csv\", low_memory=False)\n",
    "b = pd.read_csv(\"gp_imd+patients.csv\", low_memory=False)\n",
    "\n",
    "merged1 = a.merge(b, how='outer', on='ods', indicator=True)\n",
    "# merged2 = a.merge(b, on='lsoa')\n",
    "# merged3 = a.merge(b, on='ods', how='right')\n",
    "\n",
    "merged1.to_csv(\"gp_imd+patients+nhspaym.csv\", index=False)\n",
    "# merged2.to_csv('polaczone_inner.csv', index=False)\n",
    "\n",
    "\n"
   ]
  },
  {
   "cell_type": "code",
   "execution_count": 2,
   "metadata": {
    "collapsed": true
   },
   "outputs": [],
   "source": [
    "# adding in comments dataset already processed with topic modelling\n",
    "# see 'aa step3.2 (optional) add_GP_ODS_codes_to_data (github).ipynb' for example of how to\n",
    "# add ODS codes to the records\n",
    "\n",
    "import pandas as pd\n",
    "import os\n",
    "\n",
    "os.getcwd()\n",
    "\n",
    "\n",
    "a = pd.read_csv(\"regdata+ODS.csv\", low_memory=False)\n",
    "b = pd.read_csv(\"gp_imd+patients+nhspaym.csv\", low_memory=False)\n",
    "\n",
    "merged1 = a.merge(b, how='outer', on='ods', indicator=True)\n",
    "\n",
    "merged1.to_csv(\"gp_imd+patients+nhspaym+feedback.csv\", index=False)\n",
    "# merged2.to_csv('polaczone_inner.csv', index=False)\n",
    "\n"
   ]
  },
  {
   "cell_type": "code",
   "execution_count": 31,
   "metadata": {
    "scrolled": true
   },
   "outputs": [
    {
     "name": "stdout",
     "output_type": "stream",
     "text": [
      "koniec\n"
     ]
    }
   ],
   "source": [
    "# drop comments with missing data, compute month numbers (a combination of year and month)\n",
    "\n",
    "import csv\n",
    "import os\n",
    "import pandas as pd\n",
    "\n",
    "a = pd.read_csv(\"gp_imd+patients+nhspaym+feedback.csv\", low_memory=False)\n",
    "a = pd.DataFrame.dropna(a)\n",
    "x = (a['year'] - 2012)*12-12+a['month']\n",
    "a['period'] = x\n",
    "a.to_csv('combdata_with_periods.csv')\n",
    "print 'ok'"
   ]
  },
  {
   "cell_type": "code",
   "execution_count": 2,
   "metadata": {},
   "outputs": [],
   "source": [
    "# final dataset merger\n",
    "# the reviews data come from \"regdata\" object produced in R, enriched with ODS codes\n",
    "# 144142 reviews were represented in both in datasets (a) and (b)\n",
    "# 6 reviews were only in dataset (a) (the comment texts were very short and so LDA model skipped those reviews)\n",
    "# 2246 reviews were only in dataset (b) (due to some metadata about commented-on GP practices missing)\n",
    "\n",
    "import pandas as pd\n",
    "import os\n",
    "\n",
    "os.getcwd()\n",
    "\n",
    "\n",
    "a = pd.read_csv(\"combdata_with_periods.csv\", low_memory=False)\n",
    "b = pd.read_csv(\"reviews.csv\", low_memory=False)\n",
    "\n",
    "merged1 = a.merge(b, how='outer', on='my.ref.num', indicator=True)\n",
    "\n",
    "merged1.to_csv(\"combined_data.csv\", index=False)\n",
    "\n",
    "\n",
    "\n"
   ]
  }
 ],
 "metadata": {
  "kernelspec": {
   "display_name": "Python 3",
   "language": "python",
   "name": "python3"
  },
  "language_info": {
   "codemirror_mode": {
    "name": "ipython",
    "version": 3
   },
   "file_extension": ".py",
   "mimetype": "text/x-python",
   "name": "python",
   "nbconvert_exporter": "python",
   "pygments_lexer": "ipython3",
   "version": "3.6.3"
  }
 },
 "nbformat": 4,
 "nbformat_minor": 1
}
